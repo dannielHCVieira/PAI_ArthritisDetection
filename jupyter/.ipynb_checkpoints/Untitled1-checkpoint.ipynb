{
 "cells": [
  {
   "cell_type": "code",
   "execution_count": 6,
   "id": "087778c9",
   "metadata": {},
   "outputs": [],
   "source": [
    "import sys\n",
    "from tkinter import Tk, Button, Frame\n",
    "from tkinter.scrolledtext import ScrolledText\n",
    "\n",
    "\n",
    "class PrintLogger(object):  # create file like object\n",
    "\n",
    "    def __init__(self, textbox):  # pass reference to text widget\n",
    "        self.textbox = textbox  # keep ref\n",
    "\n",
    "    def writel(self, text):\n",
    "        self.textbox.configure(state=\"normal\")  # make field editable\n",
    "        self.textbox.insert(\"end\", text)  # write text to textbox\n",
    "        self.textbox.see(\"end\")  # scroll to end\n",
    "        self.textbox.configure(state=\"disabled\")  # make field readonly\n",
    "    \n",
    "    def write(self, text):\n",
    "        self.textbox.configure(state=\"normal\")  # make field editable\n",
    "        self.textbox.insert(\"insert\", text)  # write text to textbox\n",
    "        self.textbox.see(\"end\")  # scroll to end\n",
    "        self.textbox.configure(state=\"disabled\")  # make field readonly\n",
    "        \n",
    "    def flush(self):  # needed for file like object\n",
    "        pass\n",
    "\n",
    "\n",
    "class MainGUI(Tk):\n",
    "\n",
    "    def __init__(self):\n",
    "        Tk.__init__(self)\n",
    "        self.root = Frame(self)\n",
    "        self.root.pack()\n",
    "        self.redirect_button = Button(self.root, text=\"Redirect console to widget\", command=self.redirect_logging)\n",
    "        self.redirect_button.pack()\n",
    "        self.redirect_button = Button(self.root, text=\"Redirect console reset\", command=self.reset_logging)\n",
    "        self.redirect_button.pack()\n",
    "        self.test_button = Button(self.root, text=\"Test Print\", command=self.test_print)\n",
    "        self.test_button.pack()\n",
    "        self.log_widget = ScrolledText(self.root, height=4, width=120, font=(\"consolas\", \"8\", \"normal\"))\n",
    "        self.log_widget.pack()\n",
    "\n",
    "    def reset_logging(self):\n",
    "        sys.stdout = sys.__stdout__\n",
    "        sys.stderr = sys.__stderr__\n",
    "\n",
    "    def test_print(self):\n",
    "        print(\"Am i working?\", end=\"\")\n",
    "\n",
    "    def redirect_logging(self):\n",
    "        logger = PrintLogger(self.log_widget)\n",
    "        sys.stdout = logger\n",
    "        sys.stderr = logger\n",
    "\n",
    "\n",
    "if __name__ == \"__main__\":\n",
    "    app = MainGUI()\n",
    "    app.mainloop()\n"
   ]
  },
  {
   "cell_type": "code",
   "execution_count": null,
   "id": "391e7b54",
   "metadata": {},
   "outputs": [],
   "source": []
  }
 ],
 "metadata": {
  "kernelspec": {
   "display_name": "Python 3 (ipykernel)",
   "language": "python",
   "name": "python3"
  },
  "language_info": {
   "codemirror_mode": {
    "name": "ipython",
    "version": 3
   },
   "file_extension": ".py",
   "mimetype": "text/x-python",
   "name": "python",
   "nbconvert_exporter": "python",
   "pygments_lexer": "ipython3",
   "version": "3.7.9"
  }
 },
 "nbformat": 4,
 "nbformat_minor": 5
}
