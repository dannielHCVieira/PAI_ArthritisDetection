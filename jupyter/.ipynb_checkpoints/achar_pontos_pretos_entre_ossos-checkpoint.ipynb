{
 "cells": [
  {
   "cell_type": "code",
   "execution_count": 1,
   "metadata": {},
   "outputs": [],
   "source": [
    "from Operations import apply_match_template\n",
    "import cv2 as cv"
   ]
  },
  {
   "cell_type": "code",
   "execution_count": 21,
   "metadata": {},
   "outputs": [],
   "source": [
    "image = cv.imread(\"C:\\\\Users\\\\Windows 10\\\\Documents\\\\PUC\\\\2022_2\\\\PAI\\\\KneeXrayData\\\\ClsKLData\\kneeKL224\\\\train\\\\0\\\\9001897L.png\", 0)\n",
    "\n",
    "cv.imshow(\"imagem\",image)\n",
    "cv.waitKey(0)\n",
    "cv.destroyAllWindows()"
   ]
  },
  {
   "cell_type": "code",
   "execution_count": 24,
   "metadata": {},
   "outputs": [
    {
     "name": "stdout",
     "output_type": "stream",
     "text": [
      "<class 'numpy.ndarray'>\n",
      "(14, 84) (222, 169)\n"
     ]
    }
   ],
   "source": [
    "cropped = apply_match_template(image)\n",
    "cv.imshow(\"imagem\",cropped)\n",
    "cv.waitKey(0)\n",
    "cv.destroyAllWindows()"
   ]
  },
  {
   "cell_type": "code",
   "execution_count": 25,
   "metadata": {},
   "outputs": [],
   "source": [
    "cropped = cv.equalizeHist(cropped)\n",
    "cv.imshow(\"imagem\",cropped)\n",
    "cv.waitKey(0)\n",
    "cv.destroyAllWindows()"
   ]
  },
  {
   "cell_type": "code",
   "execution_count": 39,
   "metadata": {},
   "outputs": [],
   "source": [
    "image_2 = cv.imread(\"C:\\\\Users\\\\T-GAMER\\\\Downloads\\\\KneeXrayData\\\\KneeXrayData\\\\ClsKLData\\kneeKL224\\\\train\\\\3\\\\9000099L.png\", 0)\n",
    "cv.imshow(\"imagem\",image_2)\n",
    "cv.waitKey(0)\n",
    "cv.destroyAllWindows()"
   ]
  },
  {
   "cell_type": "code",
   "execution_count": 40,
   "metadata": {},
   "outputs": [
    {
     "name": "stdout",
     "output_type": "stream",
     "text": [
      "<class 'numpy.ndarray'>\n",
      "(1, 90) (209, 175)\n"
     ]
    }
   ],
   "source": [
    "cropped_2 = apply_match_template(image_2)\n",
    "cv.imshow(\"imagem\",cropped_2)\n",
    "cv.waitKey(0)\n",
    "cv.destroyAllWindows()"
   ]
  },
  {
   "cell_type": "code",
   "execution_count": 42,
   "metadata": {},
   "outputs": [
    {
     "name": "stdout",
     "output_type": "stream",
     "text": [
      "[[0 0 0 ... 0 0 0]\n",
      " [0 0 0 ... 0 0 0]\n",
      " [0 0 0 ... 0 0 0]\n",
      " ...\n",
      " [0 0 0 ... 0 0 0]\n",
      " [0 0 0 ... 0 0 0]\n",
      " [0 0 0 ... 0 0 0]]\n"
     ]
    }
   ],
   "source": [
    "#print(cropped)\n",
    "ret, bw = cv.threshold(cropped_2, 0, 255,cv.THRESH_BINARY|cv.THRESH_OTSU)\n",
    "\n",
    "print(bw)\n",
    "cv.imshow(\"imagem\",bw)\n",
    "cv.waitKey(0)\n",
    "cv.destroyAllWindows()"
   ]
  },
  {
   "cell_type": "code",
   "execution_count": 43,
   "metadata": {},
   "outputs": [
    {
     "name": "stdout",
     "output_type": "stream",
     "text": [
      "12474\n"
     ]
    }
   ],
   "source": [
    "#count non zero\n",
    "IMAGE_SIZE = 224 *224\n",
    "response = cv.countNonZero(bw)\n",
    "print(IMAGE_SIZE - response)"
   ]
  }
 ],
 "metadata": {
  "kernelspec": {
   "display_name": "Python 3 (ipykernel)",
   "language": "python",
   "name": "python3"
  },
  "language_info": {
   "codemirror_mode": {
    "name": "ipython",
    "version": 3
   },
   "file_extension": ".py",
   "mimetype": "text/x-python",
   "name": "python",
   "nbconvert_exporter": "python",
   "pygments_lexer": "ipython3",
   "version": "3.7.9"
  }
 },
 "nbformat": 4,
 "nbformat_minor": 1
}
