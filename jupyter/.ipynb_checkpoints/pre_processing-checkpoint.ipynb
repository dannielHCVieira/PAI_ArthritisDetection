{
 "cells": [
  {
   "cell_type": "code",
   "execution_count": 1,
   "metadata": {},
   "outputs": [],
   "source": [
    "import cv2 as cv\n",
    "import numpy as np\n",
    "import os"
   ]
  },
  {
   "cell_type": "code",
   "execution_count": 2,
   "metadata": {},
   "outputs": [],
   "source": [
    "img_path = \"C:\\\\Users\\\\Windows 10\\\\Documents\\\\PUC\\\\2022_2\\\\PAI\\\\PAI_ArtroseDetection\\\\9003175L.png\""
   ]
  },
  {
   "cell_type": "code",
   "execution_count": 3,
   "metadata": {
    "pycharm": {
     "is_executing": true
    }
   },
   "outputs": [],
   "source": [
    "dataset_path = \"..\\\\..\\\\KneeXrayData\\\\ClsKLData\\\\kneeKL224\\\\train\\\\0\\\\9268052L.png\"\n",
    "img_path = \"C:\\\\Users\\\\Windows 10\\\\Documents\\\\PUC\\\\2022_2\\\\PAI\\\\PAI_ArtroseDetection\\\\9055038R.png\"\n",
    "new_img = \"C:\\\\Users\\\\Windows 10\\\\Documents\\\\PUC\\\\2022_2\\\\PAI\\\\PAI_ArtroseDetection\\\\folder\\\\9055038R.png\"\n",
    "img = cv.imread(img_path, 0)"
   ]
  },
  {
   "cell_type": "code",
   "execution_count": 4,
   "metadata": {},
   "outputs": [],
   "source": [
    "equ = cv.equalizeHist(img)\n",
    "#res = np.hstack((img, equ))\n",
    "flipped = cv.equalizeHist(cv.flip(img, 1))\n",
    "res = np.hstack((img, flipped, equ))\n",
    "cv.imshow(\"imagem\", res)\n",
    "\n",
    "\n",
    "cv.waitKey(0)\n",
    "cv.destroyAllWindows()"
   ]
  },
  {
   "cell_type": "code",
   "execution_count": 5,
   "metadata": {},
   "outputs": [
    {
     "data": {
      "text/plain": [
       "True"
      ]
     },
     "execution_count": 5,
     "metadata": {},
     "output_type": "execute_result"
    }
   ],
   "source": [
    "test = \"C:\\\\Users\\\\Windows 10\\\\Documents\\\\PUC\\\\2022_2\\\\PAI\\\\PAI_ArtroseDetection\\\\folder\"\n",
    "if not os.path.isdir(test):\n",
    "    os.mkdir(test)\n",
    "cv.imwrite(new_img, flipped)"
   ]
  },
  {
   "cell_type": "code",
   "execution_count": 6,
   "metadata": {
    "scrolled": false
   },
   "outputs": [],
   "source": [
    "path = \"C:\\\\Users\\\\Windows 10\\\\Documents\\\\PUC\\\\2022_2\\\\PAI\\\\KneeXrayData\\\\ClsKLData\\\\kneeKL224\"\n",
    "original_path = path + \"\\\\train\"\n",
    "preprocessed_path = original_path + \"_preprocessed\"\n",
    "\n",
    "if not os.path.isdir(preprocessed_path):\n",
    "    os.mkdir(preprocessed_path)\n",
    "\n",
    "for folder in os.listdir(original_path):\n",
    "    preprocess_path_sub = preprocessed_path + \"\\\\\" + folder\n",
    "    for file in os.listdir(os.path.join(original_path+\"\\\\\"+folder)):\n",
    "        # equaliza e flipa horizontalmente\n",
    "        img = cv.imread(os.path.join(original_path+'\\\\'+folder+\"\\\\\"+file), 0)\n",
    "        equ = cv.equalizeHist(img)\n",
    "        flipped = cv.flip(equ, 1)\n",
    "        \n",
    "        # salva esse arquivo na pasta de pre-processados\n",
    "        if not os.path.isdir(preprocess_path_sub ):\n",
    "            os.mkdir(preprocess_path_sub)\n",
    "            \n",
    "        filename, file_type = file.split(\".\")\n",
    "        filename_eq_path = preprocess_path_sub+\"\\\\\"+file\n",
    "        filename_eq_flip_path = preprocess_path_sub + \"\\\\\" + filename + \"_flipped.\" + file_type\n",
    "            \n",
    "        cv.imwrite( filename_eq_path, equ)\n",
    "        cv.imwrite(filename_eq_flip_path, flipped)"
   ]
  },
  {
   "cell_type": "code",
   "execution_count": null,
   "metadata": {},
   "outputs": [],
   "source": [
    "def preprocess_images(dataset_path):\n",
    "    preprocessed_path = dataset_path + \"_preproced\"\n",
    "\n",
    "    if not os.path.isdir(preprocessed_path):\n",
    "        os.mkdir(preprocessed_path)\n",
    "\n",
    "    for folder in os.listdir(dataset_path):\n",
    "        preprocess_path_sub = preprocessed_path + \"\\\\\" + folder\n",
    "        for file in os.listdir(os.path.join(dataset_path+\"\\\\\"+folder)):\n",
    "            # equaliza e flipa horizontalmente\n",
    "            img = cv.imread(os.path.join(dataset_path+'\\\\'+folder+\"\\\\\"+file), 0)\n",
    "            equ = cv.equalizeHist(img)\n",
    "            flipped = cv.flip(equ, 1)\n",
    "\n",
    "            # salva esse arquivo na pasta de pre-processados\n",
    "            if not os.path.isdir(preprocess_path_sub ):\n",
    "                os.mkdir(preprocess_path_sub)\n",
    "            filename = preprocess_path_sub+\"\\\\\"+file\n",
    "            cv.imwrite(filename, flipped)\n"
   ]
  },
  {
   "cell_type": "code",
   "execution_count": 7,
   "metadata": {},
   "outputs": [],
   "source": [
    "aa = \"aaaa.png\"\n",
    "name, ty = aa.split(\".\")"
   ]
  },
  {
   "cell_type": "code",
   "execution_count": 8,
   "metadata": {},
   "outputs": [
    {
     "data": {
      "text/plain": [
       "'aaaa'"
      ]
     },
     "execution_count": 8,
     "metadata": {},
     "output_type": "execute_result"
    }
   ],
   "source": [
    "name"
   ]
  },
  {
   "cell_type": "code",
   "execution_count": 9,
   "metadata": {},
   "outputs": [
    {
     "data": {
      "text/plain": [
       "'png'"
      ]
     },
     "execution_count": 9,
     "metadata": {},
     "output_type": "execute_result"
    }
   ],
   "source": [
    "ty"
   ]
  },
  {
   "cell_type": "code",
   "execution_count": null,
   "metadata": {},
   "outputs": [],
   "source": []
  }
 ],
 "metadata": {
  "kernelspec": {
   "display_name": "Python 3 (ipykernel)",
   "language": "python",
   "name": "python3"
  },
  "language_info": {
   "codemirror_mode": {
    "name": "ipython",
    "version": 3
   },
   "file_extension": ".py",
   "mimetype": "text/x-python",
   "name": "python",
   "nbconvert_exporter": "python",
   "pygments_lexer": "ipython3",
   "version": "3.7.9"
  }
 },
 "nbformat": 4,
 "nbformat_minor": 1
}
