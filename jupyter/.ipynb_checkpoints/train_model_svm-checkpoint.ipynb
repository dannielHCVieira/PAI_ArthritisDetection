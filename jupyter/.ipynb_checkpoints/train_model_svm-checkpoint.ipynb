{
 "cells": [
  {
   "cell_type": "code",
   "execution_count": 5,
   "id": "5f3fa64a",
   "metadata": {},
   "outputs": [],
   "source": [
    "import matplotlib.pyplot as plt\n",
    "import tensorflow as tf\n",
    "from imutils import paths\n",
    "import os\n",
    "from keras_preprocessing.image import ImageDataGenerator\n",
    "from tensorflow.keras.optimizers import Adam\n",
    "from tensorflow.keras.layers import Dropout,Flatten,Dense,Input\n",
    "from keras import Sequential\n",
    "from tensorflow.keras.applications.mobilenet_v3 import preprocess_input\n",
    "from tensorflow.keras.preprocessing.image import img_to_array, array_to_img\n",
    "from tensorflow.keras.preprocessing.image import load_img\n",
    "from tensorflow.keras.utils import to_categorical\n",
    "from sklearn.preprocessing import LabelBinarizer\n",
    "from sklearn.model_selection import train_test_split\n",
    "from sklearn.metrics import classification_report\n",
    "from sklearn.svm import SVC \n",
    "from scipy.constants import lb\n",
    "import numpy as np\n",
    "import cv2 as cv"
   ]
  },
  {
   "cell_type": "code",
   "execution_count": 6,
   "id": "fb7ed1c8",
   "metadata": {},
   "outputs": [],
   "source": [
    "def matchTemplatePrivate(img):\n",
    "    METHOD = cv.TM_CCOEFF\n",
    "\n",
    "    # lê novamente a imagem para evitar dados quebrados\n",
    "    edged_img = cv.adaptiveThreshold(img, 255,\n",
    "                                     cv.ADAPTIVE_THRESH_MEAN_C, cv.THRESH_BINARY_INV, 21, 10)\n",
    "\n",
    "    img2 = img.copy()\n",
    "\n",
    "    # carrega template para joelho esquerdo e direito\n",
    "    template_l = cv.imread(\"../templates/template_L.png\", 0)\n",
    "    template_r = cv.imread(\"../templates/template_R.png\", 0)\n",
    "\n",
    "    # encontra contornos\n",
    "    edged_template_l = cv.adaptiveThreshold(template_r, 255,\n",
    "                                            cv.ADAPTIVE_THRESH_MEAN_C, cv.THRESH_BINARY_INV, 21, 10)\n",
    "\n",
    "    edged_template_r = cv.adaptiveThreshold(template_l, 255,\n",
    "                                            cv.ADAPTIVE_THRESH_MEAN_C, cv.THRESH_BINARY_INV, 21, 10)\n",
    "\n",
    "    w_l, h_l = template_l.shape[::-1]\n",
    "    w_r, h_r = template_l.shape[::-1]\n",
    "\n",
    "    # aplica o math template em ambas as imagens de template\n",
    "    res_l = cv.matchTemplate(edged_img, edged_template_l, METHOD)\n",
    "    res_r = cv.matchTemplate(edged_img, edged_template_r, METHOD)\n",
    "\n",
    "    min_val_l, max_val_l, min_loc_l, max_loc_l = cv.minMaxLoc(res_l)\n",
    "    min_val_r, max_val_r, min_loc_r, max_loc_r = cv.minMaxLoc(res_r)\n",
    "\n",
    "    # define qual imagem deu melhor match\n",
    "    if max_val_r > max_val_l:\n",
    "        top_left = max_loc_r\n",
    "        bottom_right = (top_left[0] + w_r, top_left[1] + h_r)\n",
    "    else:\n",
    "        top_left = max_loc_l\n",
    "        bottom_right = (top_left[0] + w_l, top_left[1] + h_l)\n",
    "\n",
    "    return top_left, bottom_right"
   ]
  },
  {
   "cell_type": "code",
   "execution_count": 7,
   "id": "06de8c9f",
   "metadata": {},
   "outputs": [
    {
     "data": {
      "text/plain": [
       "[]"
      ]
     },
     "execution_count": 7,
     "metadata": {},
     "output_type": "execute_result"
    }
   ],
   "source": [
    "tf.config.list_physical_devices('GPU')"
   ]
  },
  {
   "cell_type": "code",
   "execution_count": 8,
   "id": "d5bf2994",
   "metadata": {},
   "outputs": [],
   "source": [
    "train_dataset = \"C:\\\\Users\\\\Windows 10\\\\Documents\\\\PUC\\\\2022_2\\\\PAI\\\\KneeXrayData\\\\ClsKLData\\\\kneeKL224\\\\train_preprocessed\"\n",
    "val_dataset = \"C:\\\\Users\\\\Windows 10\\\\Documents\\\\PUC\\\\2022_2\\\\PAI\\\\KneeXrayData\\\\ClsKLData\\\\kneeKL224\\\\val_preprocessed\"\n",
    "test_dataset = \"C:\\\\Users\\\\Windows 10\\\\Documents\\\\PUC\\\\2022_2\\\\PAI\\\\KneeXrayData\\\\ClsKLData\\\\kneeKL224\\\\test_preprocessed\""
   ]
  },
  {
   "cell_type": "code",
   "execution_count": 9,
   "id": "b20a41bb",
   "metadata": {},
   "outputs": [],
   "source": [
    "train_images=list(paths.list_images(train_dataset))\n",
    "val_images=list(paths.list_images(val_dataset))\n",
    "test_images=list(paths.list_images(test_dataset))"
   ]
  },
  {
   "cell_type": "code",
   "execution_count": 10,
   "id": "48c5c66d",
   "metadata": {},
   "outputs": [],
   "source": [
    "def processImage(image):\n",
    "    image = img_to_array(image, dtype='uint8')\n",
    "    x, y = matchTemplatePrivate(image)\n",
    "    image = image[x[1]:y[1],x[0]:y[0]]\n",
    "    image = array_to_img(image)\n",
    "    image = image.resize((224,224))\n",
    "    image = img_to_array(image)\n",
    "    return cv.cvtColor(image,cv.COLOR_GRAY2RGB)"
   ]
  },
  {
   "cell_type": "code",
   "execution_count": null,
   "id": "fb7b9a75",
   "metadata": {},
   "outputs": [],
   "source": [
    "train_data=[]\n",
    "train_labels=[]\n",
    "val_data=[]\n",
    "val_labels=[]\n",
    "test_data=[]\n",
    "test_labels=[]\n",
    "\n",
    "for i in train_images:#adicionar nosso preprocessamento\n",
    "    label=i.split(os.path.sep)[-2]\n",
    "    train_labels.append(label)\n",
    "    image = load_img(i,target_size=(224,224), color_mode=\"grayscale\")\n",
    "    image = processImage(image)\n",
    "    train_data.append(image)\n",
    "\n",
    "for i in val_images:#adicionar nosso preprocessamento\n",
    "    label=i.split(os.path.sep)[-2]\n",
    "    val_labels.append(label)\n",
    "    image = load_img(i,target_size=(224,224), color_mode=\"grayscale\")\n",
    "    image = processImage(image)\n",
    "    val_data.append(image)\n",
    "\n",
    "for i in test_images:#adicionar nosso preprocessamento\n",
    "    label=i.split(os.path.sep)[-2]\n",
    "    test_labels.append(label)\n",
    "    image = load_img(i,target_size=(224,224), color_mode=\"grayscale\")\n",
    "    image = processImage(image)\n",
    "    test_data.append(image)\n"
   ]
  },
  {
   "cell_type": "code",
   "execution_count": null,
   "id": "65ada9f7",
   "metadata": {},
   "outputs": [],
   "source": [
    "print(test_data[0].shape)"
   ]
  }
 ],
 "metadata": {
  "kernelspec": {
   "display_name": "Python 3 (ipykernel)",
   "language": "python",
   "name": "python3"
  },
  "language_info": {
   "codemirror_mode": {
    "name": "ipython",
    "version": 3
   },
   "file_extension": ".py",
   "mimetype": "text/x-python",
   "name": "python",
   "nbconvert_exporter": "python",
   "pygments_lexer": "ipython3",
   "version": "3.7.9"
  }
 },
 "nbformat": 4,
 "nbformat_minor": 5
}
