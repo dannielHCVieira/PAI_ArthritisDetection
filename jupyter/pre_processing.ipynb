{
 "cells": [
  {
   "cell_type": "code",
   "execution_count": 13,
   "metadata": {},
   "outputs": [],
   "source": [
    "import cv2 as cv\n",
    "import numpy as np\n",
    "import os"
   ]
  },
  {
   "cell_type": "code",
   "execution_count": 2,
   "metadata": {},
   "outputs": [],
   "source": [
    "img_path = \"C:\\\\Users\\\\Windows 10\\\\Documents\\\\PUC\\\\2022_2\\\\PAI\\\\PAI_ArtroseDetection\\\\9003175L.png\""
   ]
  },
  {
   "cell_type": "code",
   "execution_count": 3,
   "metadata": {
    "pycharm": {
     "is_executing": true
    }
   },
   "outputs": [],
   "source": [
    "dataset_path = \"..\\\\..\\\\KneeXrayData\\\\ClsKLData\\\\kneeKL224\\\\train\\\\0\\\\9268052L.png\"\n",
    "img_path = \"C:\\\\Users\\\\Windows 10\\\\Documents\\\\PUC\\\\2022_2\\\\PAI\\\\PAI_ArtroseDetection\\\\9055038R.png\"\n",
    "new_img = \"C:\\\\Users\\\\Windows 10\\\\Documents\\\\PUC\\\\2022_2\\\\PAI\\\\PAI_ArtroseDetection\\\\folder\\\\9055038R.png\"\n",
    "img = cv.imread(img_path, 0)"
   ]
  },
  {
   "cell_type": "code",
   "execution_count": 4,
   "metadata": {},
   "outputs": [],
   "source": [
    "equ = cv.equalizeHist(img)\n",
    "#res = np.hstack((img, equ))\n",
    "flipped = cv.equalizeHist(cv.flip(img, 1))\n",
    "res = np.hstack((img, flipped, equ))\n",
    "cv.imshow(\"imagem\", res)\n",
    "\n",
    "\n",
    "cv.waitKey(0)\n",
    "cv.destroyAllWindows()"
   ]
  },
  {
   "cell_type": "code",
   "execution_count": 5,
   "metadata": {},
   "outputs": [
    {
     "data": {
      "text/plain": [
       "True"
      ]
     },
     "execution_count": 5,
     "metadata": {},
     "output_type": "execute_result"
    }
   ],
   "source": [
    "test = \"C:\\\\Users\\\\Windows 10\\\\Documents\\\\PUC\\\\2022_2\\\\PAI\\\\PAI_ArtroseDetection\\\\folder\"\n",
    "if not os.path.isdir(test):\n",
    "    os.mkdir(test)\n",
    "cv.imwrite(new_img, flipped)"
   ]
  },
  {
   "cell_type": "code",
   "execution_count": 14,
   "metadata": {
    "scrolled": false
   },
   "outputs": [
    {
     "ename": "KeyboardInterrupt",
     "evalue": "",
     "output_type": "error",
     "traceback": [
      "\u001B[1;31m---------------------------------------------------------------------------\u001B[0m",
      "\u001B[1;31mKeyboardInterrupt\u001B[0m                         Traceback (most recent call last)",
      "Cell \u001B[1;32mIn [14], line 25\u001B[0m\n\u001B[0;32m     22\u001B[0m filename_eq_path \u001B[38;5;241m=\u001B[39m preprocess_path_sub\u001B[38;5;241m+\u001B[39m\u001B[38;5;124m\"\u001B[39m\u001B[38;5;130;01m\\\\\u001B[39;00m\u001B[38;5;124m\"\u001B[39m\u001B[38;5;241m+\u001B[39mfile\n\u001B[0;32m     23\u001B[0m filename_eq_flip_path \u001B[38;5;241m=\u001B[39m preprocess_path_sub \u001B[38;5;241m+\u001B[39m \u001B[38;5;124m\"\u001B[39m\u001B[38;5;130;01m\\\\\u001B[39;00m\u001B[38;5;124m\"\u001B[39m \u001B[38;5;241m+\u001B[39m filename \u001B[38;5;241m+\u001B[39m \u001B[38;5;124m\"\u001B[39m\u001B[38;5;124m_flipped.\u001B[39m\u001B[38;5;124m\"\u001B[39m \u001B[38;5;241m+\u001B[39m file_type\n\u001B[1;32m---> 25\u001B[0m \u001B[43mcv\u001B[49m\u001B[38;5;241;43m.\u001B[39;49m\u001B[43mimwrite\u001B[49m\u001B[43m(\u001B[49m\u001B[43m \u001B[49m\u001B[43mfilename_eq_path\u001B[49m\u001B[43m,\u001B[49m\u001B[43m \u001B[49m\u001B[43mequ\u001B[49m\u001B[43m)\u001B[49m\n\u001B[0;32m     26\u001B[0m cv\u001B[38;5;241m.\u001B[39mimwrite(filename_eq_flip_path, flipped)\n",
      "\u001B[1;31mKeyboardInterrupt\u001B[0m: "
     ]
    }
   ],
   "source": [
    "#RODAR ESSE\n",
    "path = \"C:\\\\Users\\\\T-GAMER\\\\Downloads\\\\KneeXrayData\\\\KneeXrayData\\\\ClsKLData\\\\kneeKL224\"\n",
    "original_path = path + \"\\\\train\"\n",
    "preprocessed_path = original_path + \"_preprocessed\"\n",
    "\n",
    "if not os.path.isdir(preprocessed_path):\n",
    "    os.mkdir(preprocessed_path)\n",
    "\n",
    "for folder in os.listdir(original_path):\n",
    "    preprocess_path_sub = preprocessed_path + \"\\\\\" + folder\n",
    "    for file in os.listdir(os.path.join(original_path+\"\\\\\"+folder)):\n",
    "        # equaliza e flipa horizontalmente\n",
    "        img = cv.imread(os.path.join(original_path+'\\\\'+folder+\"\\\\\"+file), 0)\n",
    "        equ = cv.equalizeHist(img)\n",
    "        flipped = cv.flip(equ, 1)\n",
    "        \n",
    "        # salva esse arquivo na pasta de pre-processados\n",
    "        if not os.path.isdir(preprocess_path_sub ):\n",
    "            os.mkdir(preprocess_path_sub)\n",
    "            \n",
    "        filename, file_type = file.split(\".\")\n",
    "        filename_eq_path = preprocess_path_sub+\"\\\\\"+file\n",
    "        filename_eq_flip_path = preprocess_path_sub + \"\\\\\" + filename + \"_flipped.\" + file_type\n",
    "            \n",
    "        cv.imwrite(filename_eq_path, equ)\n",
    "        cv.imwrite(filename_eq_flip_path, flipped)"
   ]
  },
  {
   "cell_type": "code",
   "execution_count": 23,
   "metadata": {},
   "outputs": [],
   "source": [
    "def preprocess_images(dataset_path):\n",
    "    preprocessed_path = dataset_path + \"_preprocessed\"\n",
    "\n",
    "    if not os.path.isdir(preprocessed_path):\n",
    "        os.mkdir(preprocessed_path)\n",
    "\n",
    "    for folder in os.listdir(dataset_path):\n",
    "        preprocess_path_sub = preprocessed_path + \"\\\\\" + folder\n",
    "        for file in os.listdir(os.path.join(dataset_path+\"\\\\\"+folder)):\n",
    "            # equaliza e flipa horizontalmente\n",
    "            img = cv.imread(os.path.join(dataset_path+'\\\\'+folder+\"\\\\\"+file), 0)\n",
    "            equ = cv.equalizeHist(img)\n",
    "            flipped = cv.flip(equ, 1)\n",
    "\n",
    "            # salva esse arquivo na pasta de pre-processados\n",
    "            if not os.path.isdir(preprocess_path_sub ):\n",
    "                os.mkdir(preprocess_path_sub)\n",
    "\n",
    "            filename, file_type = file.split(\".\")\n",
    "            filename_eq_path = preprocess_path_sub+\"\\\\\"+file\n",
    "            filename_eq_flip_path = preprocess_path_sub + \"\\\\\" + filename + \"_flipped.\" + file_type\n",
    "\n",
    "            cv.imwrite( filename_eq_path, equ)\n",
    "            cv.imwrite(filename_eq_flip_path, flipped)\n"
   ]
  },
  {
   "cell_type": "code",
   "execution_count": 24,
   "outputs": [],
   "source": [
    "preprocess_images(\"C:\\\\Users\\\\T-GAMER\\\\Downloads\\\\KneeXrayData\\\\KneeXrayData\\\\ClsKLData\\\\kneeKL224\\\\train\")\n",
    "preprocess_images(\"C:\\\\Users\\\\T-GAMER\\\\Downloads\\\\KneeXrayData\\\\KneeXrayData\\\\ClsKLData\\\\kneeKL224\\\\val\")\n",
    "preprocess_images(\"C:\\\\Users\\\\T-GAMER\\\\Downloads\\\\KneeXrayData\\\\KneeXrayData\\\\ClsKLData\\\\kneeKL224\\\\test\")\n",
    "preprocess_images(\"C:\\\\Users\\\\T-GAMER\\\\Downloads\\\\KneeXrayData\\\\KneeXrayData\\\\ClsKLData\\\\kneeKL224\\\\auto_test\")"
   ],
   "metadata": {
    "collapsed": false
   }
  },
  {
   "cell_type": "code",
   "execution_count": 7,
   "metadata": {},
   "outputs": [],
   "source": [
    "aa = \"aaaa.png\"\n",
    "name, ty = aa.split(\".\")"
   ]
  },
  {
   "cell_type": "code",
   "execution_count": 8,
   "metadata": {},
   "outputs": [
    {
     "data": {
      "text/plain": [
       "'aaaa'"
      ]
     },
     "execution_count": 8,
     "metadata": {},
     "output_type": "execute_result"
    }
   ],
   "source": [
    "name"
   ]
  },
  {
   "cell_type": "code",
   "execution_count": 9,
   "metadata": {},
   "outputs": [
    {
     "data": {
      "text/plain": [
       "'png'"
      ]
     },
     "execution_count": 9,
     "metadata": {},
     "output_type": "execute_result"
    }
   ],
   "source": [
    "ty"
   ]
  },
  {
   "cell_type": "code",
   "execution_count": null,
   "metadata": {},
   "outputs": [],
   "source": []
  }
 ],
 "metadata": {
  "kernelspec": {
   "display_name": "Python 3 (ipykernel)",
   "language": "python",
   "name": "python3"
  },
  "language_info": {
   "codemirror_mode": {
    "name": "ipython",
    "version": 3
   },
   "file_extension": ".py",
   "mimetype": "text/x-python",
   "name": "python",
   "nbconvert_exporter": "python",
   "pygments_lexer": "ipython3",
   "version": "3.7.9"
  }
 },
 "nbformat": 4,
 "nbformat_minor": 1
}
