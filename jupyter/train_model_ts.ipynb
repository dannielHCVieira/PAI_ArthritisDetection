{
 "cells": [
  {
   "cell_type": "code",
   "execution_count": null,
   "metadata": {
    "collapsed": true
   },
   "outputs": [],
   "source": [
    "import matplotlib.pyplot as plt\n",
    "import tensorflow as tf\n",
    "from imutils import paths\n",
    "import os\n",
    "from keras_preprocessing.image import ImageDataGenerator\n",
    "from tensorflow.keras.optimizers import Adam\n",
    "from tensorflow.keras.layers import Dropout,Flatten,Dense,Input\n",
    "from keras import Sequential\n",
    "from tensorflow.keras.applications.mobilenet_v3 import preprocess_input\n",
    "from tensorflow.keras.preprocessing.image import img_to_array\n",
    "from tensorflow.keras.preprocessing.image import load_img\n",
    "from tensorflow.keras.utils import to_categorical\n",
    "from sklearn.preprocessing import LabelBinarizer\n",
    "from sklearn.model_selection import train_test_split\n",
    "from sklearn.metrics import classification_report\n",
    "from scipy.constants import lb\n",
    "import numpy as np"
   ]
  },
  {
   "cell_type": "code",
   "execution_count": null,
   "outputs": [],
   "source": [
    "tf.config.list_physical_devices('GPU')"
   ],
   "metadata": {
    "collapsed": false
   }
  },
  {
   "cell_type": "code",
   "execution_count": null,
   "outputs": [],
   "source": [
    "train_dataset = \"C:\\\\Users\\\\T-GAMER\\\\Downloads\\\\KneeXrayData\\\\KneeXrayData\\\\ClsKLData\\\\kneeKL224\\\\train_preprocessed\"\n",
    "val_dataset = \"C:\\\\Users\\\\T-GAMER\\\\Downloads\\\\KneeXrayData\\\\KneeXrayData\\\\ClsKLData\\\\kneeKL224\\\\val\"\n",
    "test_dataset = \"C:\\\\Users\\\\T-GAMER\\\\Downloads\\\\KneeXrayData\\\\KneeXrayData\\\\ClsKLData\\\\kneeKL224\\\\test\""
   ],
   "metadata": {
    "collapsed": false
   }
  },
  {
   "cell_type": "code",
   "execution_count": null,
   "outputs": [],
   "source": [
    "train_images=list(paths.list_images(train_dataset))\n",
    "val_images=list(paths.list_images(val_dataset))\n",
    "test_images=list(paths.list_images(test_dataset))"
   ],
   "metadata": {
    "collapsed": false
   }
  },
  {
   "cell_type": "code",
   "execution_count": null,
   "outputs": [],
   "source": [
    "print(train_images)"
   ],
   "metadata": {
    "collapsed": false
   }
  },
  {
   "cell_type": "code",
   "execution_count": null,
   "outputs": [],
   "source": [
    "print(test_images)"
   ],
   "metadata": {
    "collapsed": false
   }
  },
  {
   "cell_type": "code",
   "execution_count": null,
   "outputs": [],
   "source": [
    "print(val_images)"
   ],
   "metadata": {
    "collapsed": false
   }
  },
  {
   "cell_type": "code",
   "execution_count": 13,
   "outputs": [],
   "source": [
    "train_data=[]\n",
    "train_labels=[]\n",
    "val_data=[]\n",
    "val_labels=[]\n",
    "test_data=[]\n",
    "test_labels=[]\n",
    "\n",
    "for i in train_images:#adicionar nosso preprocessamento\n",
    "    label=i.split(os.path.sep)[-2]\n",
    "    train_labels.append(label)\n",
    "    image = load_img(i,target_size=(224,224))\n",
    "    image = img_to_array(image)\n",
    "    image = preprocess_input(image)\n",
    "    train_data.append(image)\n",
    "\n",
    "for i in val_images:#adicionar nosso preprocessamento\n",
    "    label=i.split(os.path.sep)[-2]\n",
    "    val_labels.append(label)\n",
    "    image = load_img(i,target_size=(224,224))\n",
    "    image = img_to_array(image)\n",
    "    image = preprocess_input(image)\n",
    "    val_data.append(image)\n",
    "\n",
    "for i in test_images:#adicionar nosso preprocessamento\n",
    "    label=i.split(os.path.sep)[-2]\n",
    "    test_labels.append(label)\n",
    "    image = load_img(i,target_size=(224,224))\n",
    "    image = img_to_array(image)\n",
    "    image = preprocess_input(image)\n",
    "    test_data.append(image)\n"
   ],
   "metadata": {
    "collapsed": false
   }
  },
  {
   "cell_type": "code",
   "execution_count": 14,
   "outputs": [],
   "source": [
    "\n",
    "train_data=np.array(train_data, dtype='float32')\n",
    "train_labels=np.array(train_labels)\n",
    "\n",
    "val_data=np.array(val_data, dtype='float32')\n",
    "val_labels=np.array(val_labels)\n",
    "\n",
    "test_data=np.array(test_data, dtype='float32')\n",
    "test_labels=np.array(test_labels)\n"
   ],
   "metadata": {
    "collapsed": false
   }
  },
  {
   "cell_type": "code",
   "execution_count": 15,
   "outputs": [
    {
     "name": "stdout",
     "output_type": "stream",
     "text": [
      "(5778,)\n"
     ]
    }
   ],
   "source": [
    "print(train_labels.shape)"
   ],
   "metadata": {
    "collapsed": false
   }
  },
  {
   "cell_type": "code",
   "execution_count": 16,
   "outputs": [],
   "source": [
    "#lb = LabelBinarizer()\n",
    "#labels = lb.fit_transform(labels)\n",
    "train_labels = to_categorical(train_labels)\n",
    "\n",
    "val_labels = to_categorical(val_labels)\n",
    "\n",
    "test_labels = to_categorical(test_labels)\n"
   ],
   "metadata": {
    "collapsed": false
   }
  },
  {
   "cell_type": "code",
   "execution_count": null,
   "outputs": [],
   "source": [
    "## Splitting of Data\n",
    "\n",
    "#train_X,test_X,train_Y,test_Y = train_test_split(data,labels,test_size=0.20,random_state=10,stratify=labels)"
   ],
   "metadata": {
    "collapsed": false
   }
  },
  {
   "cell_type": "code",
   "execution_count": 17,
   "outputs": [],
   "source": [
    "\n",
    "aug=ImageDataGenerator(\n",
    "                       rotation_range=20,\n",
    "                       zoom_range=0.15,width_shift_range=0.2,\n",
    "                       height_shift_range=0.2,shear_range=0.15,\n",
    "                       horizontal_flip=True,\n",
    "                       vertical_flip=True,\n",
    "                       fill_mode='nearest'\n",
    "                       )"
   ],
   "metadata": {
    "collapsed": false
   }
  },
  {
   "cell_type": "code",
   "execution_count": 18,
   "outputs": [],
   "source": [
    "input_shape = (224,224,3)"
   ],
   "metadata": {
    "collapsed": false
   }
  },
  {
   "cell_type": "code",
   "execution_count": 19,
   "outputs": [],
   "source": [
    "# Build Model BEST MODEL\n",
    "input_image = Input(shape=input_shape)\n",
    "# 1st Conv layer\n"
   ],
   "metadata": {
    "collapsed": false
   }
  },
  {
   "cell_type": "code",
   "execution_count": 20,
   "outputs": [],
   "source": [
    "lr=0.0005\n",
    "Epochs=100\n",
    "BS=32\n",
    "\n"
   ],
   "metadata": {
    "collapsed": false
   }
  },
  {
   "cell_type": "code",
   "execution_count": 21,
   "outputs": [
    {
     "name": "stdout",
     "output_type": "stream",
     "text": [
      "WARNING:tensorflow:`input_shape` is undefined or non-square, or `rows` is not 224. Weights for input shape (224, 224) will be loaded as the default.\n"
     ]
    }
   ],
   "source": [
    "\n",
    "opt=Adam(learning_rate=lr,decay=lr/Epochs)\n",
    "model = tf.keras.applications.MobileNetV3Small()\n",
    "model = Sequential([model,Flatten(),Dense(1024),Dense(64),Dropout(0.2),Dense(5, activation='softmax')])\n",
    "model.compile(loss='categorical_crossentropy',optimizer=opt,metrics=['accuracy'])"
   ],
   "metadata": {
    "collapsed": false
   }
  },
  {
   "cell_type": "code",
   "execution_count": 22,
   "outputs": [
    {
     "name": "stdout",
     "output_type": "stream",
     "text": [
      "Epoch 1/100\n",
      "180/180 [==============================] - 38s 152ms/step - loss: 1.2960 - accuracy: 0.4462 - val_loss: 1.6789 - val_accuracy: 0.4031\n",
      "Epoch 2/100\n",
      "180/180 [==============================] - 26s 146ms/step - loss: 1.1556 - accuracy: 0.5143 - val_loss: 1.5332 - val_accuracy: 0.3995\n",
      "Epoch 3/100\n",
      "180/180 [==============================] - 27s 149ms/step - loss: 1.0763 - accuracy: 0.5540 - val_loss: 1.4712 - val_accuracy: 0.4419\n",
      "Epoch 4/100\n",
      "180/180 [==============================] - 27s 152ms/step - loss: 1.0240 - accuracy: 0.5670 - val_loss: 1.4193 - val_accuracy: 0.4443\n",
      "Epoch 5/100\n",
      "180/180 [==============================] - 27s 148ms/step - loss: 0.9771 - accuracy: 0.5921 - val_loss: 1.1360 - val_accuracy: 0.5194\n",
      "Epoch 6/100\n",
      "180/180 [==============================] - 27s 148ms/step - loss: 0.9389 - accuracy: 0.6128 - val_loss: 1.1614 - val_accuracy: 0.5424\n",
      "Epoch 7/100\n",
      "180/180 [==============================] - 27s 150ms/step - loss: 0.9273 - accuracy: 0.6159 - val_loss: 1.1014 - val_accuracy: 0.5690\n",
      "Epoch 8/100\n",
      "180/180 [==============================] - 27s 150ms/step - loss: 0.9091 - accuracy: 0.6196 - val_loss: 1.2198 - val_accuracy: 0.5194\n",
      "Epoch 9/100\n",
      "180/180 [==============================] - 27s 150ms/step - loss: 0.8899 - accuracy: 0.6337 - val_loss: 1.0330 - val_accuracy: 0.5714\n",
      "Epoch 10/100\n",
      "180/180 [==============================] - 27s 150ms/step - loss: 0.8818 - accuracy: 0.6321 - val_loss: 1.0798 - val_accuracy: 0.5751\n",
      "Epoch 11/100\n",
      "180/180 [==============================] - 27s 149ms/step - loss: 0.8615 - accuracy: 0.6344 - val_loss: 1.0762 - val_accuracy: 0.5702\n",
      "Epoch 12/100\n",
      "180/180 [==============================] - 27s 148ms/step - loss: 0.8611 - accuracy: 0.6375 - val_loss: 0.9647 - val_accuracy: 0.6126\n",
      "Epoch 13/100\n",
      "180/180 [==============================] - 27s 148ms/step - loss: 0.8566 - accuracy: 0.6373 - val_loss: 0.9853 - val_accuracy: 0.6029\n",
      "Epoch 14/100\n",
      "180/180 [==============================] - 27s 150ms/step - loss: 0.8431 - accuracy: 0.6483 - val_loss: 0.9711 - val_accuracy: 0.6041\n",
      "Epoch 15/100\n",
      "180/180 [==============================] - 27s 149ms/step - loss: 0.8416 - accuracy: 0.6411 - val_loss: 0.8887 - val_accuracy: 0.6356\n",
      "Epoch 16/100\n",
      "180/180 [==============================] - 26s 145ms/step - loss: 0.8369 - accuracy: 0.6538 - val_loss: 0.8794 - val_accuracy: 0.6235\n",
      "Epoch 17/100\n",
      "180/180 [==============================] - 26s 145ms/step - loss: 0.8220 - accuracy: 0.6547 - val_loss: 0.8578 - val_accuracy: 0.6368\n",
      "Epoch 18/100\n",
      "180/180 [==============================] - 27s 148ms/step - loss: 0.8204 - accuracy: 0.6566 - val_loss: 0.9116 - val_accuracy: 0.6114\n",
      "Epoch 19/100\n",
      "180/180 [==============================] - 27s 150ms/step - loss: 0.8306 - accuracy: 0.6526 - val_loss: 0.9415 - val_accuracy: 0.6065\n",
      "Epoch 20/100\n",
      "180/180 [==============================] - 27s 150ms/step - loss: 0.7995 - accuracy: 0.6627 - val_loss: 0.9416 - val_accuracy: 0.5835\n",
      "Epoch 21/100\n",
      "180/180 [==============================] - 27s 148ms/step - loss: 0.8115 - accuracy: 0.6638 - val_loss: 1.1737 - val_accuracy: 0.5303\n",
      "Epoch 22/100\n",
      "180/180 [==============================] - 27s 148ms/step - loss: 0.8406 - accuracy: 0.6448 - val_loss: 0.9128 - val_accuracy: 0.6259\n",
      "Epoch 23/100\n",
      "180/180 [==============================] - 27s 148ms/step - loss: 0.7960 - accuracy: 0.6631 - val_loss: 0.9877 - val_accuracy: 0.6174\n",
      "Epoch 24/100\n",
      "180/180 [==============================] - 27s 149ms/step - loss: 0.7952 - accuracy: 0.6660 - val_loss: 1.1181 - val_accuracy: 0.5847\n",
      "Epoch 25/100\n",
      "180/180 [==============================] - 27s 149ms/step - loss: 0.7813 - accuracy: 0.6678 - val_loss: 0.8974 - val_accuracy: 0.6465\n",
      "Epoch 26/100\n",
      "180/180 [==============================] - 27s 148ms/step - loss: 0.7808 - accuracy: 0.6714 - val_loss: 0.9648 - val_accuracy: 0.6211\n",
      "Epoch 27/100\n",
      "180/180 [==============================] - 26s 146ms/step - loss: 0.7789 - accuracy: 0.6732 - val_loss: 0.8843 - val_accuracy: 0.6186\n",
      "Epoch 28/100\n",
      "180/180 [==============================] - 27s 150ms/step - loss: 0.7753 - accuracy: 0.6740 - val_loss: 0.8857 - val_accuracy: 0.6441\n",
      "Epoch 29/100\n",
      "180/180 [==============================] - 27s 151ms/step - loss: 0.7780 - accuracy: 0.6739 - val_loss: 0.8919 - val_accuracy: 0.6283\n",
      "Epoch 30/100\n",
      "180/180 [==============================] - 27s 148ms/step - loss: 0.7772 - accuracy: 0.6735 - val_loss: 0.8936 - val_accuracy: 0.6465\n",
      "Epoch 31/100\n",
      "180/180 [==============================] - 27s 150ms/step - loss: 0.7683 - accuracy: 0.6815 - val_loss: 0.9585 - val_accuracy: 0.6368\n",
      "Epoch 32/100\n",
      "180/180 [==============================] - 27s 147ms/step - loss: 0.7680 - accuracy: 0.6784 - val_loss: 0.8539 - val_accuracy: 0.6550\n",
      "Epoch 33/100\n",
      "180/180 [==============================] - 27s 150ms/step - loss: 0.7573 - accuracy: 0.6766 - val_loss: 0.9152 - val_accuracy: 0.6029\n",
      "Epoch 34/100\n",
      "180/180 [==============================] - 26s 145ms/step - loss: 0.7596 - accuracy: 0.6847 - val_loss: 0.9034 - val_accuracy: 0.6453\n",
      "Epoch 35/100\n",
      "180/180 [==============================] - 27s 148ms/step - loss: 0.7474 - accuracy: 0.6855 - val_loss: 0.9186 - val_accuracy: 0.6332\n",
      "Epoch 36/100\n",
      "180/180 [==============================] - 27s 149ms/step - loss: 0.7533 - accuracy: 0.6900 - val_loss: 0.9313 - val_accuracy: 0.6235\n",
      "Epoch 37/100\n",
      "180/180 [==============================] - 26s 147ms/step - loss: 0.7190 - accuracy: 0.6986 - val_loss: 1.0968 - val_accuracy: 0.6114\n",
      "Epoch 38/100\n",
      "180/180 [==============================] - 26s 147ms/step - loss: 0.7393 - accuracy: 0.6928 - val_loss: 0.8541 - val_accuracy: 0.6356\n",
      "Epoch 39/100\n",
      "180/180 [==============================] - 26s 146ms/step - loss: 0.7311 - accuracy: 0.6981 - val_loss: 0.9117 - val_accuracy: 0.6259\n",
      "Epoch 40/100\n",
      "180/180 [==============================] - 26s 145ms/step - loss: 0.7319 - accuracy: 0.6913 - val_loss: 1.0183 - val_accuracy: 0.5993\n",
      "Epoch 41/100\n",
      "180/180 [==============================] - 26s 145ms/step - loss: 0.7400 - accuracy: 0.6843 - val_loss: 0.9423 - val_accuracy: 0.6199\n",
      "Epoch 42/100\n",
      "180/180 [==============================] - 26s 143ms/step - loss: 0.7180 - accuracy: 0.7019 - val_loss: 0.9941 - val_accuracy: 0.6211\n",
      "Epoch 43/100\n",
      "180/180 [==============================] - 26s 144ms/step - loss: 0.7246 - accuracy: 0.6975 - val_loss: 0.9495 - val_accuracy: 0.6295\n",
      "Epoch 44/100\n",
      "180/180 [==============================] - 26s 142ms/step - loss: 0.7129 - accuracy: 0.7094 - val_loss: 1.0207 - val_accuracy: 0.6102\n",
      "Epoch 45/100\n",
      "180/180 [==============================] - 26s 146ms/step - loss: 0.6974 - accuracy: 0.7061 - val_loss: 0.9408 - val_accuracy: 0.6186\n",
      "Epoch 46/100\n",
      "180/180 [==============================] - 27s 147ms/step - loss: 0.6996 - accuracy: 0.7052 - val_loss: 0.9606 - val_accuracy: 0.6235\n",
      "Epoch 47/100\n",
      "180/180 [==============================] - 27s 147ms/step - loss: 0.6988 - accuracy: 0.7090 - val_loss: 0.8881 - val_accuracy: 0.6053\n",
      "Epoch 48/100\n",
      "180/180 [==============================] - 26s 144ms/step - loss: 0.7187 - accuracy: 0.7000 - val_loss: 0.9648 - val_accuracy: 0.6126\n",
      "Epoch 49/100\n",
      "180/180 [==============================] - 26s 144ms/step - loss: 0.6978 - accuracy: 0.7144 - val_loss: 0.9348 - val_accuracy: 0.6283\n",
      "Epoch 50/100\n",
      "180/180 [==============================] - 26s 145ms/step - loss: 0.6845 - accuracy: 0.7175 - val_loss: 0.9621 - val_accuracy: 0.5896\n",
      "Epoch 51/100\n",
      "180/180 [==============================] - 26s 145ms/step - loss: 0.6789 - accuracy: 0.7181 - val_loss: 1.0416 - val_accuracy: 0.6053\n",
      "Epoch 52/100\n",
      "180/180 [==============================] - 26s 146ms/step - loss: 0.6971 - accuracy: 0.7116 - val_loss: 1.0392 - val_accuracy: 0.6186\n",
      "Epoch 53/100\n",
      "180/180 [==============================] - 27s 151ms/step - loss: 0.6701 - accuracy: 0.7247 - val_loss: 1.0128 - val_accuracy: 0.5908\n",
      "Epoch 54/100\n",
      "180/180 [==============================] - 29s 159ms/step - loss: 0.6626 - accuracy: 0.7236 - val_loss: 1.1038 - val_accuracy: 0.6005\n",
      "Epoch 55/100\n",
      "180/180 [==============================] - 27s 149ms/step - loss: 0.6846 - accuracy: 0.7156 - val_loss: 1.0290 - val_accuracy: 0.5981\n",
      "Epoch 56/100\n",
      "180/180 [==============================] - 27s 149ms/step - loss: 0.6609 - accuracy: 0.7242 - val_loss: 1.1529 - val_accuracy: 0.6065\n",
      "Epoch 57/100\n",
      "180/180 [==============================] - 27s 148ms/step - loss: 0.6718 - accuracy: 0.7214 - val_loss: 1.0000 - val_accuracy: 0.6223\n",
      "Epoch 58/100\n",
      "180/180 [==============================] - 26s 145ms/step - loss: 0.6677 - accuracy: 0.7264 - val_loss: 0.9811 - val_accuracy: 0.6295\n",
      "Epoch 59/100\n",
      "180/180 [==============================] - 26s 145ms/step - loss: 0.6553 - accuracy: 0.7290 - val_loss: 1.0423 - val_accuracy: 0.6247\n",
      "Epoch 60/100\n",
      "180/180 [==============================] - 26s 143ms/step - loss: 0.6464 - accuracy: 0.7304 - val_loss: 0.9843 - val_accuracy: 0.6380\n",
      "Epoch 61/100\n",
      "180/180 [==============================] - 26s 143ms/step - loss: 0.6373 - accuracy: 0.7386 - val_loss: 1.0448 - val_accuracy: 0.6174\n",
      "Epoch 62/100\n",
      "180/180 [==============================] - 26s 144ms/step - loss: 0.6462 - accuracy: 0.7349 - val_loss: 1.0361 - val_accuracy: 0.6199\n",
      "Epoch 63/100\n",
      "180/180 [==============================] - 26s 143ms/step - loss: 0.6209 - accuracy: 0.7463 - val_loss: 1.0296 - val_accuracy: 0.6308\n",
      "Epoch 64/100\n",
      "180/180 [==============================] - 27s 149ms/step - loss: 0.6232 - accuracy: 0.7483 - val_loss: 0.9950 - val_accuracy: 0.5920\n",
      "Epoch 65/100\n",
      "180/180 [==============================] - 27s 152ms/step - loss: 0.6344 - accuracy: 0.7416 - val_loss: 1.0443 - val_accuracy: 0.6090\n",
      "Epoch 66/100\n",
      "180/180 [==============================] - 28s 152ms/step - loss: 0.6344 - accuracy: 0.7400 - val_loss: 1.0393 - val_accuracy: 0.6259\n",
      "Epoch 67/100\n",
      "180/180 [==============================] - 27s 149ms/step - loss: 0.6118 - accuracy: 0.7475 - val_loss: 1.0118 - val_accuracy: 0.6295\n",
      "Epoch 68/100\n",
      "180/180 [==============================] - 27s 147ms/step - loss: 0.6166 - accuracy: 0.7475 - val_loss: 1.0611 - val_accuracy: 0.6065\n",
      "Epoch 69/100\n",
      "180/180 [==============================] - 27s 152ms/step - loss: 0.6133 - accuracy: 0.7466 - val_loss: 1.0085 - val_accuracy: 0.6259\n",
      "Epoch 70/100\n",
      "180/180 [==============================] - 27s 152ms/step - loss: 0.6103 - accuracy: 0.7466 - val_loss: 1.0028 - val_accuracy: 0.6041\n",
      "Epoch 71/100\n",
      "180/180 [==============================] - 27s 151ms/step - loss: 0.5785 - accuracy: 0.7598 - val_loss: 1.1060 - val_accuracy: 0.5956\n",
      "Epoch 72/100\n",
      "180/180 [==============================] - 27s 150ms/step - loss: 0.6364 - accuracy: 0.7461 - val_loss: 0.9727 - val_accuracy: 0.6332\n",
      "Epoch 73/100\n",
      "180/180 [==============================] - 27s 150ms/step - loss: 0.6218 - accuracy: 0.7450 - val_loss: 1.0308 - val_accuracy: 0.6174\n",
      "Epoch 74/100\n",
      "180/180 [==============================] - 27s 149ms/step - loss: 0.6146 - accuracy: 0.7550 - val_loss: 1.0194 - val_accuracy: 0.6295\n",
      "Epoch 75/100\n",
      "180/180 [==============================] - 27s 148ms/step - loss: 0.6031 - accuracy: 0.7508 - val_loss: 1.0292 - val_accuracy: 0.5835\n",
      "Epoch 76/100\n",
      "180/180 [==============================] - 27s 148ms/step - loss: 0.5995 - accuracy: 0.7515 - val_loss: 1.0264 - val_accuracy: 0.6138\n",
      "Epoch 77/100\n",
      "180/180 [==============================] - 28s 154ms/step - loss: 0.5807 - accuracy: 0.7649 - val_loss: 1.0707 - val_accuracy: 0.5969\n",
      "Epoch 78/100\n",
      "180/180 [==============================] - 27s 148ms/step - loss: 0.5706 - accuracy: 0.7760 - val_loss: 1.0440 - val_accuracy: 0.6162\n",
      "Epoch 79/100\n",
      "180/180 [==============================] - 26s 144ms/step - loss: 0.5806 - accuracy: 0.7631 - val_loss: 1.0613 - val_accuracy: 0.6259\n",
      "Epoch 80/100\n",
      "180/180 [==============================] - 26s 141ms/step - loss: 0.5671 - accuracy: 0.7755 - val_loss: 1.1109 - val_accuracy: 0.6174\n",
      "Epoch 81/100\n",
      "180/180 [==============================] - 26s 146ms/step - loss: 0.5755 - accuracy: 0.7661 - val_loss: 1.0613 - val_accuracy: 0.6271\n",
      "Epoch 82/100\n",
      "180/180 [==============================] - 28s 152ms/step - loss: 0.5904 - accuracy: 0.7590 - val_loss: 1.0347 - val_accuracy: 0.6235\n",
      "Epoch 83/100\n",
      "180/180 [==============================] - 26s 144ms/step - loss: 0.5723 - accuracy: 0.7692 - val_loss: 1.0787 - val_accuracy: 0.6029\n",
      "Epoch 84/100\n",
      "180/180 [==============================] - 27s 149ms/step - loss: 0.6116 - accuracy: 0.7522 - val_loss: 1.0454 - val_accuracy: 0.6211\n",
      "Epoch 85/100\n",
      "180/180 [==============================] - 27s 147ms/step - loss: 0.5695 - accuracy: 0.7720 - val_loss: 1.1084 - val_accuracy: 0.5884\n",
      "Epoch 86/100\n",
      "180/180 [==============================] - 27s 148ms/step - loss: 0.5457 - accuracy: 0.7821 - val_loss: 1.0661 - val_accuracy: 0.6174\n",
      "Epoch 87/100\n",
      "180/180 [==============================] - 27s 148ms/step - loss: 0.5342 - accuracy: 0.7847 - val_loss: 1.0673 - val_accuracy: 0.6271\n",
      "Epoch 88/100\n",
      "180/180 [==============================] - 27s 150ms/step - loss: 0.5273 - accuracy: 0.7865 - val_loss: 1.0675 - val_accuracy: 0.5860\n",
      "Epoch 89/100\n",
      "180/180 [==============================] - 27s 149ms/step - loss: 0.5152 - accuracy: 0.7915 - val_loss: 1.0733 - val_accuracy: 0.6295\n",
      "Epoch 90/100\n",
      "180/180 [==============================] - 27s 149ms/step - loss: 0.5007 - accuracy: 0.8049 - val_loss: 1.2783 - val_accuracy: 0.6077\n",
      "Epoch 91/100\n",
      "180/180 [==============================] - 27s 149ms/step - loss: 0.5309 - accuracy: 0.7856 - val_loss: 1.2082 - val_accuracy: 0.6259\n",
      "Epoch 92/100\n",
      "180/180 [==============================] - 27s 148ms/step - loss: 0.5129 - accuracy: 0.7946 - val_loss: 1.2892 - val_accuracy: 0.6065\n",
      "Epoch 93/100\n",
      "180/180 [==============================] - 26s 145ms/step - loss: 0.5065 - accuracy: 0.8014 - val_loss: 1.1112 - val_accuracy: 0.6138\n",
      "Epoch 94/100\n",
      "180/180 [==============================] - 27s 148ms/step - loss: 0.5045 - accuracy: 0.8007 - val_loss: 1.1621 - val_accuracy: 0.5981\n",
      "Epoch 95/100\n",
      "180/180 [==============================] - 26s 145ms/step - loss: 0.5044 - accuracy: 0.8082 - val_loss: 1.2078 - val_accuracy: 0.6138\n",
      "Epoch 96/100\n",
      "180/180 [==============================] - 26s 142ms/step - loss: 0.5090 - accuracy: 0.8009 - val_loss: 1.1629 - val_accuracy: 0.6174\n",
      "Epoch 97/100\n",
      "180/180 [==============================] - 26s 142ms/step - loss: 0.4940 - accuracy: 0.8082 - val_loss: 1.1842 - val_accuracy: 0.5993\n",
      "Epoch 98/100\n",
      "180/180 [==============================] - 26s 141ms/step - loss: 0.4746 - accuracy: 0.8124 - val_loss: 1.2264 - val_accuracy: 0.5969\n",
      "Epoch 99/100\n",
      "180/180 [==============================] - 26s 143ms/step - loss: 0.4702 - accuracy: 0.8157 - val_loss: 1.2124 - val_accuracy: 0.6235\n",
      "Epoch 100/100\n",
      "180/180 [==============================] - 26s 145ms/step - loss: 0.4637 - accuracy: 0.8202 - val_loss: 1.1796 - val_accuracy: 0.6162\n"
     ]
    }
   ],
   "source": [
    "history=model.fit(\n",
    "aug.flow(train_data,train_labels,batch_size=BS),\n",
    "steps_per_epoch=len(train_data)//BS,\n",
    "validation_data=(val_data,val_labels),\n",
    "validation_steps=len(val_data)//BS,\n",
    "epochs=Epochs\n",
    "\n",
    ")"
   ],
   "metadata": {
    "collapsed": false
   }
  },
  {
   "cell_type": "code",
   "execution_count": 23,
   "outputs": [
    {
     "data": {
      "text/plain": "<Figure size 640x480 with 1 Axes>",
      "image/png": "[encoded data removed]"
     },
     "metadata": {},
     "output_type": "display_data"
    }
   ],
   "source": [
    "acc_train = history.history['accuracy']\n",
    "acc_val = history.history['val_accuracy']\n",
    "\n",
    "epochs = range(1,101)\n",
    "plt.plot(epochs, acc_train, 'g', label='Training accuracy')\n",
    "plt.plot(epochs, acc_val, 'b', label='validation accuracy')\n",
    "plt.title('Training and Validation accuracy')\n",
    "plt.xlabel('Epochs')\n",
    "plt.ylabel('Accuracy')\n",
    "plt.legend()\n",
    "plt.show()\n",
    "#plt.savefig(\"accuracy.png\")"
   ],
   "metadata": {
    "collapsed": false
   }
  },
  {
   "cell_type": "code",
   "execution_count": null,
   "outputs": [],
   "source": [
    "model.save('./trained_model_mobileNet.h5')"
   ],
   "metadata": {
    "collapsed": false
   }
  },
  {
   "cell_type": "code",
   "execution_count": 25,
   "outputs": [
    {
     "name": "stdout",
     "output_type": "stream",
     "text": [
      "52/52 [==============================] - 1s 18ms/step\n",
      "              precision    recall  f1-score   support\n",
      "\n",
      "           0       0.73      0.82      0.77       639\n",
      "           1       0.33      0.31      0.32       296\n",
      "           2       0.67      0.57      0.62       447\n",
      "           3       0.77      0.78      0.78       223\n",
      "           4       0.79      0.80      0.80        51\n",
      "\n",
      "    accuracy                           0.66      1656\n",
      "   macro avg       0.66      0.66      0.66      1656\n",
      "weighted avg       0.65      0.66      0.65      1656\n",
      "\n"
     ]
    }
   ],
   "source": [
    "\n",
    "\n",
    "\n",
    "predict=model.predict(test_data,batch_size=BS)\n",
    "predict=np.argmax(predict,axis=1)\n",
    "print(classification_report(test_labels.argmax(axis=1) ,predict, target_names=[\"0\", \"1\", \"2\", \"3\", \"4\"]))"
   ],
   "metadata": {
    "collapsed": false
   }
  },
  {
   "cell_type": "code",
   "execution_count": 27,
   "outputs": [],
   "source": [
    "from sklearn.metrics import confusion_matrix\n",
    "from mlxtend.plotting import plot_confusion_matrix\n",
    "cm = confusion_matrix(y_true=test_labels.argmax(axis=1), y_pred=predict)"
   ],
   "metadata": {
    "collapsed": false
   }
  },
  {
   "cell_type": "code",
   "execution_count": 28,
   "outputs": [
    {
     "name": "stdout",
     "output_type": "stream",
     "text": [
      "AxesSubplot(0.125,0.11;0.775x0.77)\n"
     ]
    },
    {
     "data": {
      "text/plain": "<Figure size 600x600 with 1 Axes>",
      "image/png": "[encoded data removed]"
     },
     "metadata": {},
     "output_type": "display_data"
    }
   ],
   "source": [
    "import matplotlib\n",
    "fig, ax = plot_confusion_matrix(conf_mat=cm,\n",
    "        figsize=(6, 6),\n",
    "        class_names = [\"0\", \"1\",\"2\",\"3\",\"4\"],\n",
    "        show_absolute=True,\n",
    "        show_normed=True,\n",
    "         cmap='Greys',\n",
    "\n",
    "         norm_colormap=matplotlib.colors.LogNorm( ))\n",
    "\n",
    "plt.xlabel('', fontsize=18)\n",
    "plt.ylabel('', fontsize=18)\n",
    "plt.title('Confusion Matrix', fontsize=18)\n",
    "#plt.show()\n",
    "#plt.savefig(\"cm.png\")\n",
    "print(ax)"
   ],
   "metadata": {
    "collapsed": false
   }
  },
  {
   "cell_type": "code",
   "execution_count": null,
   "outputs": [],
   "source": [
    "img = tf.keras.utils.load_img(\n",
    "    \"C:\\\\Users\\\\T-GAMER\\\\Downloads\\\\not_mask.png\", target_size=(96, 96)\n",
    ")\n",
    "img_array = tf.keras.utils.img_to_array(img)\n",
    "img_array = tf.expand_dims(img_array, 0) # Create a batch\n",
    "img_array = preprocess_input(img_array)\n",
    "mask, withoutMask=model.predict(img_array)[0]\n",
    "\n",
    "            #determine the class label and color we will use to draw the bounding box and text\n",
    "label, score =('Mask', mask) if mask>withoutMask else ('No Mask', withoutMask)\n",
    "print((mask, withoutMask))\n",
    "print(\n",
    "    \"This image most likely belongs to {} with a {} percent confidence.\"\n",
    "    .format(label, score)\n",
    ")\n"
   ],
   "metadata": {
    "collapsed": false
   }
  }
 ],
 "metadata": {
  "kernelspec": {
   "display_name": "Python 3",
   "language": "python",
   "name": "python3"
  },
  "language_info": {
   "codemirror_mode": {
    "name": "ipython",
    "version": 2
   },
   "file_extension": ".py",
   "mimetype": "text/x-python",
   "name": "python",
   "nbconvert_exporter": "python",
   "pygments_lexer": "ipython2",
   "version": "2.7.6"
  }
 },
 "nbformat": 4,
 "nbformat_minor": 0
}
